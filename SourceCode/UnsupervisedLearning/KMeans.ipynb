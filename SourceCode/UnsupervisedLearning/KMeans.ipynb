{
 "cells": [
  {
   "cell_type": "code",
   "execution_count": 1,
   "id": "historic-highland",
   "metadata": {},
   "outputs": [
    {
     "name": "stdout",
     "output_type": "stream",
     "text": [
      "Pixiedust database opened successfully\n"
     ]
    },
    {
     "data": {
      "text/html": [
       "\n",
       "        <div style=\"margin:10px\">\n",
       "            <a href=\"https://github.com/ibm-watson-data-lab/pixiedust\" target=\"_new\">\n",
       "                <img src=\"https://github.com/ibm-watson-data-lab/pixiedust/raw/master/docs/_static/pd_icon32.png\" style=\"float:left;margin-right:10px\"/>\n",
       "            </a>\n",
       "            <span>Pixiedust version 1.1.19</span>\n",
       "        </div>\n",
       "        "
      ],
      "text/plain": [
       "<IPython.core.display.HTML object>"
      ]
     },
     "metadata": {},
     "output_type": "display_data"
    },
    {
     "name": "stderr",
     "output_type": "stream",
     "text": [
      "<frozen importlib._bootstrap>:219: RuntimeWarning: numpy.ufunc size changed, may indicate binary incompatibility. Expected 192 from C header, got 216 from PyObject\n",
      "<frozen importlib._bootstrap>:219: RuntimeWarning: numpy.ufunc size changed, may indicate binary incompatibility. Expected 192 from C header, got 216 from PyObject\n",
      "<frozen importlib._bootstrap>:219: RuntimeWarning: numpy.ufunc size changed, may indicate binary incompatibility. Expected 192 from C header, got 216 from PyObject\n",
      "<frozen importlib._bootstrap>:219: RuntimeWarning: numpy.ufunc size changed, may indicate binary incompatibility. Expected 192 from C header, got 216 from PyObject\n",
      "[nltk_data] Downloading package punkt to\n",
      "[nltk_data]     /Users/josieldelgadillo/nltk_data...\n",
      "[nltk_data]   Package punkt is already up-to-date!\n",
      "[nltk_data] Downloading package stopwords to\n",
      "[nltk_data]     /Users/josieldelgadillo/nltk_data...\n",
      "[nltk_data]   Package stopwords is already up-to-date!\n"
     ]
    }
   ],
   "source": [
    "import os, csv\n",
    "import pixiedust # for debugging %%pixie_debugger\n",
    "\n",
    "from sklearn.cluster import KMeans\n",
    "import pandas as pd\n",
    "from sklearn.preprocessing import MinMaxScaler\n",
    "from matplotlib import pyplot as plt\n",
    "import numpy as np\n",
    "%matplotlib inline\n",
    "\n",
    "#feature extraction\n",
    "from sklearn.feature_extraction.text import CountVectorizer\n",
    "import nltk\n",
    "from nltk.corpus import stopwords\n",
    "import string\n",
    "from nltk.tokenize.treebank import TreebankWordDetokenizer\n",
    "nltk.download('punkt')\n",
    "nltk.download('stopwords')\n",
    "\n",
    "#vectorization\n",
    "from gensim.models import Word2Vec\n"
   ]
  },
  {
   "cell_type": "code",
   "execution_count": 2,
   "id": "danish-canon",
   "metadata": {},
   "outputs": [
    {
     "data": {
      "text/html": [
       "<div>\n",
       "<style scoped>\n",
       "    .dataframe tbody tr th:only-of-type {\n",
       "        vertical-align: middle;\n",
       "    }\n",
       "\n",
       "    .dataframe tbody tr th {\n",
       "        vertical-align: top;\n",
       "    }\n",
       "\n",
       "    .dataframe thead th {\n",
       "        text-align: right;\n",
       "    }\n",
       "</style>\n",
       "<table border=\"1\" class=\"dataframe\">\n",
       "  <thead>\n",
       "    <tr style=\"text-align: right;\">\n",
       "      <th></th>\n",
       "      <th>Unnamed: 0</th>\n",
       "      <th>tweet_id</th>\n",
       "      <th>tweet_date</th>\n",
       "      <th>tweet_time</th>\n",
       "      <th>tweet_text</th>\n",
       "      <th>likes</th>\n",
       "      <th>retweets</th>\n",
       "      <th>parent_tweet_id</th>\n",
       "      <th>username</th>\n",
       "      <th>tweet_url</th>\n",
       "    </tr>\n",
       "  </thead>\n",
       "  <tbody>\n",
       "    <tr>\n",
       "      <th>0</th>\n",
       "      <td>0</td>\n",
       "      <td>1360044606193295361</td>\n",
       "      <td>2021-02-12</td>\n",
       "      <td>01:54:37</td>\n",
       "      <td>Hologic has gained 55% during the past year, b...</td>\n",
       "      <td>4</td>\n",
       "      <td>2</td>\n",
       "      <td>NaN</td>\n",
       "      <td>NaN</td>\n",
       "      <td>https://twitter.com/elonmusk/status/1360044606...</td>\n",
       "    </tr>\n",
       "    <tr>\n",
       "      <th>1</th>\n",
       "      <td>1</td>\n",
       "      <td>1360007215726403586</td>\n",
       "      <td>2021-02-11</td>\n",
       "      <td>23:26:02</td>\n",
       "      <td>Online travel agency Expedia had a far worse f...</td>\n",
       "      <td>1</td>\n",
       "      <td>1</td>\n",
       "      <td>NaN</td>\n",
       "      <td>NaN</td>\n",
       "      <td>https://twitter.com/elonmusk/status/1360007215...</td>\n",
       "    </tr>\n",
       "    <tr>\n",
       "      <th>2</th>\n",
       "      <td>2</td>\n",
       "      <td>1360002123212218369</td>\n",
       "      <td>2021-02-11</td>\n",
       "      <td>23:05:48</td>\n",
       "      <td>Payments company Affirm topped forecasts in it...</td>\n",
       "      <td>3</td>\n",
       "      <td>2</td>\n",
       "      <td>NaN</td>\n",
       "      <td>NaN</td>\n",
       "      <td>https://twitter.com/elonmusk/status/1360002123...</td>\n",
       "    </tr>\n",
       "    <tr>\n",
       "      <th>3</th>\n",
       "      <td>3</td>\n",
       "      <td>1359991942793289729</td>\n",
       "      <td>2021-02-11</td>\n",
       "      <td>22:25:21</td>\n",
       "      <td>CEO Zander Lurie says he thinks the company ha...</td>\n",
       "      <td>4</td>\n",
       "      <td>1</td>\n",
       "      <td>NaN</td>\n",
       "      <td>NaN</td>\n",
       "      <td>https://twitter.com/elonmusk/status/1359991942...</td>\n",
       "    </tr>\n",
       "    <tr>\n",
       "      <th>4</th>\n",
       "      <td>4</td>\n",
       "      <td>1359986836693737474</td>\n",
       "      <td>2021-02-11</td>\n",
       "      <td>22:05:03</td>\n",
       "      <td>The Dow ended slightly in the red, but not bef...</td>\n",
       "      <td>2</td>\n",
       "      <td>1</td>\n",
       "      <td>NaN</td>\n",
       "      <td>NaN</td>\n",
       "      <td>https://twitter.com/elonmusk/status/1359986836...</td>\n",
       "    </tr>\n",
       "  </tbody>\n",
       "</table>\n",
       "</div>"
      ],
      "text/plain": [
       "   Unnamed: 0             tweet_id  tweet_date tweet_time  \\\n",
       "0           0  1360044606193295361  2021-02-12   01:54:37   \n",
       "1           1  1360007215726403586  2021-02-11   23:26:02   \n",
       "2           2  1360002123212218369  2021-02-11   23:05:48   \n",
       "3           3  1359991942793289729  2021-02-11   22:25:21   \n",
       "4           4  1359986836693737474  2021-02-11   22:05:03   \n",
       "\n",
       "                                          tweet_text  likes  retweets  \\\n",
       "0  Hologic has gained 55% during the past year, b...      4         2   \n",
       "1  Online travel agency Expedia had a far worse f...      1         1   \n",
       "2  Payments company Affirm topped forecasts in it...      3         2   \n",
       "3  CEO Zander Lurie says he thinks the company ha...      4         1   \n",
       "4  The Dow ended slightly in the red, but not bef...      2         1   \n",
       "\n",
       "   parent_tweet_id username                                          tweet_url  \n",
       "0              NaN      NaN  https://twitter.com/elonmusk/status/1360044606...  \n",
       "1              NaN      NaN  https://twitter.com/elonmusk/status/1360007215...  \n",
       "2              NaN      NaN  https://twitter.com/elonmusk/status/1360002123...  \n",
       "3              NaN      NaN  https://twitter.com/elonmusk/status/1359991942...  \n",
       "4              NaN      NaN  https://twitter.com/elonmusk/status/1359986836...  "
      ]
     },
     "execution_count": 2,
     "metadata": {},
     "output_type": "execute_result"
    }
   ],
   "source": [
    "#get data\n",
    "df = pd.read_csv(\"./data/barronsonline_tweets.csv\")\n",
    "df.head()"
   ]
  },
  {
   "cell_type": "code",
   "execution_count": 3,
   "id": "lucky-accessory",
   "metadata": {
    "pixiedust": {
     "displayParams": {}
    },
    "scrolled": true
   },
   "outputs": [
    {
     "data": {
      "text/html": [
       "<div>\n",
       "<style scoped>\n",
       "    .dataframe tbody tr th:only-of-type {\n",
       "        vertical-align: middle;\n",
       "    }\n",
       "\n",
       "    .dataframe tbody tr th {\n",
       "        vertical-align: top;\n",
       "    }\n",
       "\n",
       "    .dataframe thead th {\n",
       "        text-align: right;\n",
       "    }\n",
       "</style>\n",
       "<table border=\"1\" class=\"dataframe\">\n",
       "  <thead>\n",
       "    <tr style=\"text-align: right;\">\n",
       "      <th></th>\n",
       "      <th>Unnamed: 0</th>\n",
       "      <th>tweet_id</th>\n",
       "      <th>tweet_date</th>\n",
       "      <th>tweet_time</th>\n",
       "      <th>tweet_text</th>\n",
       "      <th>likes</th>\n",
       "      <th>retweets</th>\n",
       "      <th>parent_tweet_id</th>\n",
       "      <th>username</th>\n",
       "      <th>tweet_url</th>\n",
       "      <th>Clean</th>\n",
       "    </tr>\n",
       "  </thead>\n",
       "  <tbody>\n",
       "    <tr>\n",
       "      <th>0</th>\n",
       "      <td>0</td>\n",
       "      <td>1360044606193295361</td>\n",
       "      <td>2021-02-12</td>\n",
       "      <td>01:54:37</td>\n",
       "      <td>Hologic has gained 55% during the past year, b...</td>\n",
       "      <td>4</td>\n",
       "      <td>2</td>\n",
       "      <td>NaN</td>\n",
       "      <td>NaN</td>\n",
       "      <td>https://twitter.com/elonmusk/status/1360044606...</td>\n",
       "      <td>[hologic, gained, past, year, valuation, dropp...</td>\n",
       "    </tr>\n",
       "    <tr>\n",
       "      <th>1</th>\n",
       "      <td>1</td>\n",
       "      <td>1360007215726403586</td>\n",
       "      <td>2021-02-11</td>\n",
       "      <td>23:26:02</td>\n",
       "      <td>Online travel agency Expedia had a far worse f...</td>\n",
       "      <td>1</td>\n",
       "      <td>1</td>\n",
       "      <td>NaN</td>\n",
       "      <td>NaN</td>\n",
       "      <td>https://twitter.com/elonmusk/status/1360007215...</td>\n",
       "      <td>[online, travel, agency, expedia, far, worse, ...</td>\n",
       "    </tr>\n",
       "    <tr>\n",
       "      <th>2</th>\n",
       "      <td>2</td>\n",
       "      <td>1360002123212218369</td>\n",
       "      <td>2021-02-11</td>\n",
       "      <td>23:05:48</td>\n",
       "      <td>Payments company Affirm topped forecasts in it...</td>\n",
       "      <td>3</td>\n",
       "      <td>2</td>\n",
       "      <td>NaN</td>\n",
       "      <td>NaN</td>\n",
       "      <td>https://twitter.com/elonmusk/status/1360002123...</td>\n",
       "      <td>[payments, company, affirm, topped, forecasts,...</td>\n",
       "    </tr>\n",
       "    <tr>\n",
       "      <th>3</th>\n",
       "      <td>3</td>\n",
       "      <td>1359991942793289729</td>\n",
       "      <td>2021-02-11</td>\n",
       "      <td>22:25:21</td>\n",
       "      <td>CEO Zander Lurie says he thinks the company ha...</td>\n",
       "      <td>4</td>\n",
       "      <td>1</td>\n",
       "      <td>NaN</td>\n",
       "      <td>NaN</td>\n",
       "      <td>https://twitter.com/elonmusk/status/1359991942...</td>\n",
       "      <td>[ceo, zander, lurie, says, thinks, company, co...</td>\n",
       "    </tr>\n",
       "    <tr>\n",
       "      <th>4</th>\n",
       "      <td>4</td>\n",
       "      <td>1359986836693737474</td>\n",
       "      <td>2021-02-11</td>\n",
       "      <td>22:05:03</td>\n",
       "      <td>The Dow ended slightly in the red, but not bef...</td>\n",
       "      <td>2</td>\n",
       "      <td>1</td>\n",
       "      <td>NaN</td>\n",
       "      <td>NaN</td>\n",
       "      <td>https://twitter.com/elonmusk/status/1359986836...</td>\n",
       "      <td>[dow, ended, slightly, red, setting, intraday,...</td>\n",
       "    </tr>\n",
       "  </tbody>\n",
       "</table>\n",
       "</div>"
      ],
      "text/plain": [
       "   Unnamed: 0             tweet_id  tweet_date tweet_time  \\\n",
       "0           0  1360044606193295361  2021-02-12   01:54:37   \n",
       "1           1  1360007215726403586  2021-02-11   23:26:02   \n",
       "2           2  1360002123212218369  2021-02-11   23:05:48   \n",
       "3           3  1359991942793289729  2021-02-11   22:25:21   \n",
       "4           4  1359986836693737474  2021-02-11   22:05:03   \n",
       "\n",
       "                                          tweet_text  likes  retweets  \\\n",
       "0  Hologic has gained 55% during the past year, b...      4         2   \n",
       "1  Online travel agency Expedia had a far worse f...      1         1   \n",
       "2  Payments company Affirm topped forecasts in it...      3         2   \n",
       "3  CEO Zander Lurie says he thinks the company ha...      4         1   \n",
       "4  The Dow ended slightly in the red, but not bef...      2         1   \n",
       "\n",
       "   parent_tweet_id username  \\\n",
       "0              NaN      NaN   \n",
       "1              NaN      NaN   \n",
       "2              NaN      NaN   \n",
       "3              NaN      NaN   \n",
       "4              NaN      NaN   \n",
       "\n",
       "                                           tweet_url  \\\n",
       "0  https://twitter.com/elonmusk/status/1360044606...   \n",
       "1  https://twitter.com/elonmusk/status/1360007215...   \n",
       "2  https://twitter.com/elonmusk/status/1360002123...   \n",
       "3  https://twitter.com/elonmusk/status/1359991942...   \n",
       "4  https://twitter.com/elonmusk/status/1359986836...   \n",
       "\n",
       "                                               Clean  \n",
       "0  [hologic, gained, past, year, valuation, dropp...  \n",
       "1  [online, travel, agency, expedia, far, worse, ...  \n",
       "2  [payments, company, affirm, topped, forecasts,...  \n",
       "3  [ceo, zander, lurie, says, thinks, company, co...  \n",
       "4  [dow, ended, slightly, red, setting, intraday,...  "
      ]
     },
     "execution_count": 3,
     "metadata": {},
     "output_type": "execute_result"
    }
   ],
   "source": [
    "# clean data from punctuation, alphabets, and english stop words\n",
    "clean = []\n",
    "\n",
    "for index, row in df.iterrows():\n",
    "    tokens = nltk.word_tokenize(row.tweet_text)\n",
    "    # convert to lower case\n",
    "    tokens = [w.lower() for w in tokens]\n",
    "    # remove punctuation from each word\n",
    "    reconstruct = TreebankWordDetokenizer().detokenize(tokens)\n",
    "    new = reconstruct.translate(str.maketrans('', '', string.punctuation))\n",
    "    stripped = nltk.word_tokenize(new)\n",
    "    # remove remaining tokens that are not alphabetic\n",
    "    words = [word for word in stripped if word.isalpha()]\n",
    "    \n",
    "    # filter out stop words\n",
    "    stop_words = set(stopwords.words('english'))\n",
    "    words = [w for w in words if not w in stop_words]\n",
    "    \n",
    "    reconstruct = TreebankWordDetokenizer().detokenize(words)\n",
    "    reconstruct = reconstruct.replace(\"https\", \"\")\n",
    "    clean_tokens = nltk.word_tokenize(reconstruct)\n",
    "    # assigning clean list to new attribute\n",
    "    clean.append(clean_tokens)\n",
    "df['Clean'] = clean\n",
    "df.head()"
   ]
  },
  {
   "cell_type": "code",
   "execution_count": 4,
   "id": "altered-middle",
   "metadata": {
    "pixiedust": {
     "displayParams": {}
    },
    "scrolled": true
   },
   "outputs": [
    {
     "name": "stdout",
     "output_type": "stream",
     "text": [
      "861\n",
      "['gained', 'past', 'year', 'valuation', 'dropped', 'worth', 'look', 'online', 'travel', 'far', 'fourth', 'quarter', 'analysts', 'payments', 'company', 'forecasts', 'first', 'quarterly', 'report', 'public', 'guidance', 'may', 'ceo', 'says', 'thinks', 'set', 'changes', 'growth', 'dow', 'ended', 'red', 'high', 'initial', 'jobless', 'claims', 'could', 'much', 'billion', 'range', 'central', 'banks', 'maker', 'announced', 'deal', 'berkshire', 'hathaway', 'sell', 'electric', 'yield', 'levels', 'health', 'began', 'trading', 'thursday', 'jumped', 'forecast', 'number', 'learn', 'pandemic', 'auto', 'industry', 'us', 'two', 'well', 'new', 'york', 'show', 'might', 'home', 'executives', 'although', 'john', 'took', 'continued', 'amid', 'record', 'quickly', 'developed', 'early', 'january', 'event', 'international', 'due', 'made', 'surge', 'interest', 'among', 'news', 'tesla', 'price', 'citi', 'sees', 'coming', 'several', 'raised', 'targets', 'group', 'stock', 'week', 'response', 'sales', 'expected', 'rise', 'companies', 'buying', 'street', 'companys', 'strong', 'earnings', 'cases', 'shares', 'risen', 'nearly', 'since', 'start', 'value', 'according', 'pick', 'marijuana', 'stocks', 'posted', 'gains', 'wednesday', 'falling', 'fast', 'morning', 'would', 'one', 'largest', 'technology', 'sector', 'though', 'financial', 'times', 'said', 'talks', 'results', 'airlines', 'recovery', 'lost', 'momentum', 'least', 'vaccine', 'operator', 'backed', 'trade', 'nasdaq', 'market', 'biggest', 'workers', 'seeking', 'unemployment', 'benefits', 'seen', 'filing', 'move', 'cloud', 'china', 'expects', 'president', 'finally', 'way', 'executive', 'board', 'sold', 'recently', 'securities', 'democrats', 'make', 'case', 'trump', 'second', 'day', 'impeachment', 'trial', 'benefit', 'gm', 'reported', 'betterthanexpected', 'fourthquarter', 'numbers', 'another', 'good', 'cut', 'time', 'six', 'months', 'called', 'global', 'startup', 'issued', 'million', 'bonds', 'earlier', 'partners', 'analyst', 'raising', 'invest', 'across', 'investors', 'consider', 'short', 'selling', 'put', 'call', 'higher', 'joe', 'biden', 'chinese', 'car', 'long', 'ev', 'went', 'oil', 'prices', 'drop', 'last', 'coronavirus', 'energy', 'app', 'ahead', 'air', 'sending', 'fell', 'consumer', 'demand', 'meeting', 'rising', 'estimates', 'surging', 'ark', 'date', 'added', 'filed', 'raise', 'see', 'positive', 'signs', 'disappointing', 'inflation', 'data', 'three', 'major', 'indexes', 'driven', 'improving', 'real', 'valuations', 'terms', 'rates', 'low', 'provider', 'vehicles', 'stake', 'also', 'activist', 'sports', 'profit', 'big', 'loss', 'bond', 'funds', 'provide', 'current', 'returns', 'saw', 'many', 'lifted', 'account', 'near', 'showing', 'yet', 'thanks', 'fiscal', 'ubs', 'downgraded', 'buy', 'hold', 'appears', 'rate', 'security', 'business', 'share', 'betting', 'markets', 'economy', 'retirement', 'need', 'know', 'navigate', 'today', 'key', 'uk', 'play', 'house', 'managers', 'four', 'hours', 'tuesday', 'whether', 'world', 'around', 'senate', 'votes', 'stimulus', 'package', 'giant', 'missed', 'offered', 'outlook', 'given', 'vaccines', 'credit', 'crude', 'rallied', 'likely', 'administration', 'electricvehicle', 'want', 'back', 'focus', 'investment', 'helped', 'wells', 'fargo', 'plus', 'fund', 'europe', 'asian', 'equities', 'rose', 'futures', 'run', 'continue', 'wall', 'later', 'corporate', 'firm', 'seeing', 'expectations', 'released', 'late', 'things', 'looking', 'social', 'media', 'ago', 'protection', 'return', 'revenue', 'comes', 'delivered', 'month', 'acquisition', 'target', 'heres', 'potential', 'holding', 'internet', 'people', 'solid', 'chief', 'bank', 'soaring', 'bitcoin', 'reason', 'behind', 'cannabis', 'hopes', 'broader', 'dollar', 'general', 'costs', 'plan', 'beat', 'trend', 'rebound', 'deutsche', 'found', 'expect', 'policy', 'offer', 'based', 'cash', 'mark', 'customers', 'spending', 'following', 'large', 'industrial', 'recent', 'restrictions', 'virus', 'go', 'bill', 'rating', 'ford', 'give', 'brands', 'goldman', 'sachs', 'list', 'faster', 'silver', 'focused', 'used', 'begin', 'popular', 'total', 'motors', 'agreed', 'special', 'purpose', 'disney', 'country', 'increase', 'americans', 'videogame', 'retail', 'like', 'gamestop', 'jp', 'morgan', 'software', 'treasury', 'secretary', 'surged', 'push', 'entertainment', 'rival', 'say', 'getting', 'upbeat', 'best', 'success', 'lowered', 'neutral', 'rbc', 'capital', 'cryptocurrency', 'exchange', 'boost', 'upgraded', 'america', 'dividend', 'remain', 'even', 'sharply', 'initiated', 'coverage', 'former', 'money', 'manager', 'position', 'saying', 'profits', 'soared', 'latest', 'performance', 'citigroup', 'boosted', 'note', 'plans', 'next', 'offering', 'research', 'british', 'retailers', 'increased', 'jones', 'average', 'annual', 'lawmakers', 'include', 'technologies', 'benchmark', 'trillion', 'monday', 'help', 'season', 'uber', 'continues', 'twitter', 'take', 'get', 'barron', 'vehicle', 'right', 'firms', 'unveiled', 'state', 'system', 'alibaba', 'drug', 'means', 'future', 'change', 'top', 'care', 'alzheimer', 'become', 'increases', 'including', 'california', 'disclosed', 'portfolio', 'weeks', 'streetwise', 'podcast', 'jackhough', 'looks', 'barrons', 'cover', 'healthcare', 'hit', 'boom', 'platform', 'ipo', 'risks', 'ecommerce', 'trends', 'aid', 'white', 'economic', 'roundtable', 'pm', 'use', 'fuel', 'amazon', 'services', 'multiple', 'leading', 'bought', 'chip', 'friday', 'march', 'longterm', 'holdings', 'commission', 'advisors', 'point', 'less', 'great', 'still', 'merger', 'impact', 'biotech', 'deals', 'provides', 'chain', 'exxon', 'investor', 'reports', 'significant', 'years', 'peloton', 'delivery', 'cruise', 'february', 'heavily', 'better', 'third', 'widely', 'strategist', 'opportunities', 'businesses', 'december', 'decline', 'lower', 'gain', 'german', 'issue', 'risk', 'frenzy', 'factors', 'already', 'remains', 'winners', 'five', 'relatively', 'european', 'cents', 'warned', 'fewer', 'bullish', 'pace', 'parent', 'reopening', 'amc', 'texas', 'squeeze', 'probably', 'bigger', 'founder', 'got', 'adjusted', 'consensus', 'private', 'food', 'moving', 'pressure', 'strategy', 'open', 'vote', 'vice', 'small', 'prospects', 'vaccination', 'jobs', 'apple', 'sale', 'sent', 'using', 'end', 'september', 'listing', 'outperform', 'index', 'optimism', 'debt', 'crisis', 'keep', 'growing', 'overall', 'alphabet', 'pricing', 'management', 'beyond', 'meat', 'cars', 'matthew', 'told', 'states', 'forward', 'mixed', 'south', 'almost', 'balance', 'act', 'support', 'tech', 'spac', 'pfizer', 'despite', 'thirdquarter', 'optimistic', 'roughly', 'rally', 'chairman', 'hedge', 'happen', 'boeing', 'came', 'investing', 'shareholders', 'traded', 'merging', 'suisse', 'highs', 'toward', 'piper', 'sandler', 'microsoft', 'asset', 'led', 'going', 'pay', 'calls', 'united', 'turn', 'net', 'concerns', 'able', 'yields', 'esg', 'shift', 'model', 'offerings', 'volatility', 'sign', 'doubled', 'seem', 'work', 'wrote', 'stanley', 'manufacturing', 'activity', 'wedbush', 'climbed', 'rollout', 'housing', 'control', 'taking', 'full', 'starting', 'mean', 'american', 'makers', 'away', 'watch', 'power', 'close', 'equipment', 'james', 'smallcap', 'hard', 'poised', 'operating', 'income', 'equity', 'intel', 'face', 'consumers', 'holiday', 'soon', 'xpeng', 'countries', 'allow', 'moment', 'digital', 'others', 'losses', 'showed', 'launch', 'facebook', 'exchangetraded', 'department', 'bet', 'come', 'lot', 'along', 'emerging', 'join', 'clear', 'includes', 'advanced', 'half', 'attention', 'gold', 'especially', 'communications', 'video', 'result', 'powell', 'iphone', 'moves', 'looked', 'beijing', 'wants', 'retailer', 'launched', 'goods', 'transition', 'stores', 'shopping', 'effort', 'difficult', 'fall', 'fed', 'makes', 'known', 'wave', 'fullyear', 'covid', 'jefferies', 'issues', 'part', 'conglomerate', 'moderna', 'astrazeneca', 'dividends', 'supply', 'taken', 'making', 'november', 'options', 'enterprise', 'majority', 'weak', 'lifting', 'tax', 'opportunity', 'paul', 'experts', 'letters', 'days', 'giving', 'traditional', 'airbnb', 'jim', 'david', 'line', 'assets', 'chips', 'release', 'names', 'think', 'square', 'congress', 'priced', 'overweight', 'walmart', 'hot', 'passed', 'october', 'presidentelect', 'games', 'semiconductor', 'little', 'continuing', 'government', 'takes', 'offers', 'federal', 'products', 'production', 'everything', 'election', 'socialmedia', 'lift', 'zoom', 'nikola', 'win', 'closed', 'approval', 'attack', 'hardware', 'presidential', 'insurance', 'reserve', 'individual', 'streaming', 'service', 'evening', 'bring', 'step', 'georgia', 'fda', 'live', 'nio', 'jpmorgan', 'regulatory', 'strategists', 'lead', 'biontech', 'parts', 'economist', 'revenues', 'highest', 'find', 'prime', 'johnson', 'weekend', 'warren', 'buffett', 'level', 'direct', 'doordash', 'ge', 'women', 'lockdowns']\n"
     ]
    }
   ],
   "source": [
    "#Word2Vec implemntation\n",
    "model = Word2Vec(df['Clean'],\n",
    "                min_count=10,\n",
    "                workers=4,\n",
    "                size=50,\n",
    "                window=5,\n",
    "                iter=10).wv\n",
    "\n",
    "#vocab size\n",
    "print(len(model.vocab.keys()))\n",
    "print (list(model.vocab))\n",
    "\n",
    "model.save(\"./data/modelW2V\")"
   ]
  },
  {
   "cell_type": "code",
   "execution_count": 5,
   "id": "ranking-metallic",
   "metadata": {},
   "outputs": [
    {
     "data": {
      "image/png": "[encoded data removed]",
      "text/plain": [
       "<Figure size 432x288 with 1 Axes>"
      ]
     },
     "metadata": {
      "needs_background": "light"
     },
     "output_type": "display_data"
    }
   ],
   "source": [
    "# Elbow method for finding the optimal value of k or the number of clusters\n",
    "wcss = []\n",
    "for i in range(1, 11):\n",
    "    k = KMeans(n_clusters=i, init='k-means++', n_init=10, max_iter=300, random_state=0)\n",
    "    k.fit(model.vectors.astype('double'))\n",
    "    wcss.append(k.inertia_)\n",
    "plt.plot(range(1,11), wcss)\n",
    "plt.title('Elbow Method')\n",
    "plt.xlabel('Number of Clusters')\n",
    "plt.ylabel('wcss')\n",
    "plt.show()"
   ]
  },
  {
   "cell_type": "code",
   "execution_count": 11,
   "id": "stock-simon",
   "metadata": {
    "pixiedust": {
     "displayParams": {}
    },
    "scrolled": true
   },
   "outputs": [],
   "source": [
    "kmeans = KMeans(n_clusters=4, init='k-means++', n_init=50, max_iter=1000, random_state=True)"
   ]
  },
  {
   "cell_type": "code",
   "execution_count": 12,
   "id": "pressing-camera",
   "metadata": {},
   "outputs": [],
   "source": [
    "y_kmeans = kmeans.fit_predict(model.vectors.astype('double'))"
   ]
  },
  {
   "cell_type": "code",
   "execution_count": 13,
   "id": "exclusive-distributor",
   "metadata": {},
   "outputs": [
    {
     "data": {
      "text/plain": [
       "[('comes', 0.9997888207435608),\n",
       " ('sector', 0.9997806549072266),\n",
       " ('index', 0.9997562170028687),\n",
       " ('including', 0.9997296333312988),\n",
       " ('high', 0.9997294545173645),\n",
       " ('power', 0.9997286796569824),\n",
       " ('number', 0.9997251033782959),\n",
       " ('less', 0.9997173547744751),\n",
       " ('production', 0.9997162818908691),\n",
       " ('current', 0.999714195728302)]"
      ]
     },
     "execution_count": 13,
     "metadata": {},
     "output_type": "execute_result"
    }
   ],
   "source": [
    "model.similar_by_vector(kmeans.cluster_centers_[0], topn=10, restrict_vocab=None)"
   ]
  },
  {
   "cell_type": "code",
   "execution_count": 14,
   "id": "plain-franklin",
   "metadata": {},
   "outputs": [
    {
     "data": {
      "text/plain": [
       "<matplotlib.legend.Legend at 0x7fb4612a4640>"
      ]
     },
     "execution_count": 14,
     "metadata": {},
     "output_type": "execute_result"
    },
    {
     "data": {
      "image/png": "[encoded data removed]",
      "text/plain": [
       "<Figure size 432x288 with 1 Axes>"
      ]
     },
     "metadata": {
      "needs_background": "light"
     },
     "output_type": "display_data"
    }
   ],
   "source": [
    "#plot data\n",
    "data = model.vectors # x values\n",
    "labels = kmeans.labels_ # color list count\n",
    "\n",
    "# general data points\n",
    "plt.subplots_adjust(bottom = 0.1)\n",
    "plt.scatter(data[:, 0], data[:, 1], c=labels, cmap='rainbow') \n",
    "plt.title(\"K-Mean Vector Results\")\n",
    "\n",
    "#cluster centers\n",
    "plt.scatter(kmeans.cluster_centers_[:,0], kmeans.cluster_centers_[:,1], s=70, c='black', label='Centroid')\n",
    "plt.legend()"
   ]
  },
  {
   "cell_type": "code",
   "execution_count": 10,
   "id": "racial-hanging",
   "metadata": {},
   "outputs": [
    {
     "name": "stderr",
     "output_type": "stream",
     "text": [
      "<ipython-input-10-30b9b699ffbb>:4: DeprecationWarning: Call to deprecated `wv` (Attribute will be removed in 4.0.0, use self instead).\n",
      "  senti['vectors'] = senti.words.apply(lambda x: model.wv[f'{x}'])\n"
     ]
    },
    {
     "name": "stdout",
     "output_type": "stream",
     "text": [
      "         words  cluster  cluster_value  closeness_score  sentiment_coeff\n",
      "0       gained        1             -1        22.558432       -22.558432\n",
      "1         past        0              1         9.712192         9.712192\n",
      "2         year        0              1         5.145889         5.145889\n",
      "3    valuation        1             -1         3.789759        -3.789759\n",
      "4      dropped        1             -1        12.965189       -12.965189\n",
      "..         ...      ...            ...              ...              ...\n",
      "856     direct        1             -1         4.563668        -4.563668\n",
      "857   doordash        1             -1         9.685709        -9.685709\n",
      "858         ge        1             -1         5.449880        -5.449880\n",
      "859      women        1             -1         3.768831        -3.768831\n",
      "860  lockdowns        1             -1         7.054590        -7.054590\n",
      "\n",
      "[861 rows x 5 columns]\n"
     ]
    }
   ],
   "source": [
    "# label and assign each word a sentiment score using inverse of closeness score\n",
    "senti = pd.DataFrame(model.vocab.keys())\n",
    "senti.columns = ['words']\n",
    "senti['vectors'] = senti.words.apply(lambda x: model.wv[f'{x}'])\n",
    "senti['cluster'] = senti.vectors.apply(lambda x: kmeans.predict([np.array(x)]))\n",
    "senti['cluster'] = senti.cluster.apply(lambda x: x[0])\n",
    "senti['cluster_value'] = [1 if i==0 else -1 for i in senti.cluster]\n",
    "senti['closeness_score'] = senti.apply(lambda x: 1/(kmeans.transform([x.vectors]).min()), axis=1)\n",
    "senti['sentiment_coeff'] = senti.closeness_score * senti.cluster_value\n",
    "print(senti[['words','cluster','cluster_value', 'closeness_score' ,'sentiment_coeff']])"
   ]
  },
  {
   "cell_type": "code",
   "execution_count": null,
   "id": "rental-amplifier",
   "metadata": {},
   "outputs": [],
   "source": []
  }
 ],
 "metadata": {
  "kernelspec": {
   "display_name": "Python 3",
   "language": "python",
   "name": "python3"
  },
  "language_info": {
   "codemirror_mode": {
    "name": "ipython",
    "version": 3
   },
   "file_extension": ".py",
   "mimetype": "text/x-python",
   "name": "python",
   "nbconvert_exporter": "python",
   "pygments_lexer": "ipython3",
   "version": "3.8.2"
  }
 },
 "nbformat": 4,
 "nbformat_minor": 5
}
