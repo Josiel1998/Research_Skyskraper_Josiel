{
 "cells": [
  {
   "cell_type": "code",
   "execution_count": 2,
   "id": "breeding-least",
   "metadata": {},
   "outputs": [],
   "source": [
    "dbName = \"skyskraper\"\n",
    "dbUser = \"jkd5377\"\n",
    "dbPassword = \"CV@>..=v(Y\"\n",
    "dbHost = \"216.250.115.83\"\n",
    "dbPort = \"5432\""
   ]
  },
  {
   "cell_type": "code",
   "execution_count": null,
   "id": "declared-smoke",
   "metadata": {},
   "outputs": [],
   "source": []
  }
 ],
 "metadata": {
  "kernelspec": {
   "display_name": "Python 3",
   "language": "python",
   "name": "python3"
  },
  "language_info": {
   "codemirror_mode": {
    "name": "ipython",
    "version": 3
   },
   "file_extension": ".py",
   "mimetype": "text/x-python",
   "name": "python",
   "nbconvert_exporter": "python",
   "pygments_lexer": "ipython3",
   "version": "3.8.2"
  }
 },
 "nbformat": 4,
 "nbformat_minor": 5
}
