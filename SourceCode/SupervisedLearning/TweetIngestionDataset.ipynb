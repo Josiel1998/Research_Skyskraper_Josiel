{
 "cells": [
  {
   "cell_type": "markdown",
   "id": "passive-billy",
   "metadata": {},
   "source": [
    "## Tweet Ingestion Dataset from Database"
   ]
  },
  {
   "cell_type": "markdown",
   "id": "narrow-refrigerator",
   "metadata": {},
   "source": [
    "### Business/Organization Users\n",
    "    - @amazon\n",
    "    - @barronsonline\n",
    "    - @bbcbusiness\n",
    "    - @benzinga\n",
    "    - @bnkinvest\n",
    "    - @igsquawk\n",
    "    - @markets\n",
    "    - @marketwatch\n",
    "    - @nypostbiz\n",
    "    - @nytimesbusiness\n",
    "    - @reutersbiz\n",
    "    - @sfchronicle\n",
    "    - @theeconomist\n",
    "    - @thestreet\n",
    "    - @washingtonpost\n",
    "    - @wsjmarkets\n",
    "    - @yahoofinance\n",
    "    - @zachsresearch\n",
    "### Private User\n",
    "    - @awelathofcs\n",
    "    - @carlquintanilla\n",
    "    - @charliebilello\n",
    "    - @ewhispers\n",
    "    - @grassosteve\n",
    "    - @jimcramer\n",
    "    - @jon_prosser\n",
    "    - @jonajarian\n",
    "    - @lizannsonders\n",
    "    - @neilcybart\n",
    "    - @northmantrader\n",
    "    - @raoulgmi\n",
    "    - @reformedbroker\n",
    "    - @thestalwart\n",
    "    - @tmfjmo\n",
    "    - @tomwarren"
   ]
  },
  {
   "cell_type": "code",
   "execution_count": 5,
   "id": "assumed-annex",
   "metadata": {},
   "outputs": [
    {
     "name": "stdout",
     "output_type": "stream",
     "text": [
      "amazon\n",
      "barronsonline\n",
      "bbcbusiness\n",
      "benzinga\n",
      "bnkinvest\n",
      "igsquawk\n",
      "markets\n",
      "marketwatch\n",
      "nypostbiz\n",
      "nytimesbusiness\n",
      "reutersbiz\n",
      "reuterbiz\n",
      "sfchronicle\n",
      "theeconomist\n",
      "thestreet\n",
      "washingtonpost\n",
      "wsjmarkets\n",
      "yahoofinance\n",
      "zachsresearch\n",
      "awealthofcs\n",
      "carlquintanilla\n",
      "charliebilello\n",
      "ewhispers\n",
      "grassosteve\n",
      "jimcramer\n",
      "jon_prosser\n",
      "jonajarian\n",
      "lizannsonders\n",
      "neilcybart\n",
      "northmantrader\n",
      "raoulgmi\n",
      "reformedbroker\n",
      "thestalwart\n",
      "tmfjmo\n",
      "tomwarren\n"
     ]
    }
   ],
   "source": [
    "import json, psycopg2, os, csv\n",
    "import pandas as pd\n",
    "from dotenv import load_dotenv\n",
    "#load_ext dotenv\n",
    "%reload_ext dotenv\n",
    "%dotenv\n",
    "\n",
    "def main():\n",
    "    accounts = [\"amazon\", \"barronsonline\", \"bbcbusiness\", \"benzinga\", \"bnkinvest\", \"igsquawk\", \"markets\", \"marketwatch\", \"nypostbiz\", \"nytimesbusiness\", \"reutersbiz\", \"reuterbiz\", \"sfchronicle\", \"theeconomist\", \"thestreet\", \"washingtonpost\", \"wsjmarkets\", \"yahoofinance\", \"zachsresearch\",\"awealthofcs\", \"carlquintanilla\", \"charliebilello\", \"ewhispers\", \"grassosteve\", \"jimcramer\", \"jon_prosser\", \"jonajarian\", \"lizannsonders\", \"neilcybart\", \"northmantrader\", \"raoulgmi\", \"reformedbroker\", \"thestalwart\", \"tmfjmo\", \"tomwarren\"]\n",
    "    for acc in accounts:\n",
    "        createCSV(acc)\n",
    "        \n",
    "def createCSV(acc:str):\n",
    "    # Make database connection\n",
    "    DATABASE_CRED = json.loads(os.getenv(\"DATABASE_CREDS\"))\n",
    "    \n",
    "    try:\n",
    "        conn = psycopg2.connect(database=DATABASE_CRED[\"database\"], user = DATABASE_CRED[\"user\"], password = DATABASE_CRED[\"password\"], host = DATABASE_CRED[\"host\"], port = DATABASE_CRED[\"port\"])\n",
    "        print(\"Connected to \" + conn.dsn)\n",
    "\n",
    "        cur = conn.cursor()\n",
    "        sql = \"SELECT * FROM tweets_by_handle.barronsonline;\"\n",
    "        cur.execute(sql)\n",
    "        row = cur.fetchall()\n",
    "        \n",
    "    except:\n",
    "        print(\"Failed connection\")\n",
    "    \n",
    "    # close database connection\n",
    "    conn.close()\n",
    "\n",
    "if __name__ == '__main__':\n",
    "    main()"
   ]
  },
  {
   "cell_type": "code",
   "execution_count": null,
   "id": "north-ozone",
   "metadata": {},
   "outputs": [],
   "source": []
  }
 ],
 "metadata": {
  "kernelspec": {
   "display_name": "Python 3",
   "language": "python",
   "name": "python3"
  },
  "language_info": {
   "codemirror_mode": {
    "name": "ipython",
    "version": 3
   },
   "file_extension": ".py",
   "mimetype": "text/x-python",
   "name": "python",
   "nbconvert_exporter": "python",
   "pygments_lexer": "ipython3",
   "version": "3.8.2"
  }
 },
 "nbformat": 4,
 "nbformat_minor": 5
}
